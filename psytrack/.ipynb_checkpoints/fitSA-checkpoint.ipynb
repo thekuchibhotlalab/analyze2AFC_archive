{
 "cells": [
  {
   "cell_type": "code",
   "execution_count": 4,
   "metadata": {},
   "outputs": [
    {
     "name": "stdout",
     "output_type": "stream",
     "text": [
      "The autoreload extension is already loaded. To reload it, use:\n",
      "  %reload_ext autoreload\n"
     ]
    }
   ],
   "source": [
    "%matplotlib inline\n",
    "%load_ext autoreload\n",
    "%autoreload 2\n",
    "\n",
    "import numpy as np\n",
    "from matplotlib import pyplot as plt\n",
    "plt.rcParams['figure.dpi'] = 140\n",
    "\n",
    "import psytrack as psy\n",
    "import scipy.io\n",
    "\n",
    "mouseList = ['zz054','zz062','zz063','zz066','zz067','zz068','zz069']\n",
    "F = 5"
   ]
  },
  {
   "cell_type": "code",
   "execution_count": 5,
   "metadata": {},
   "outputs": [],
   "source": [
    "def fitFull(mouse,nPrev,F):\n",
    "    mat = scipy.io.loadmat('C:/Users/zzhu34/Documents/tempdata/octoData/psyTrackData/trialData/' + mouse +'_nPrev5.mat',mat_dtype=True)\n",
    "    mat['y'] = mat['y'].flatten();mat['correct'] = mat['correct'].flatten();\n",
    "    mat['dayLength'] = mat['dayLength'].flatten();mat['answer'] = mat['answer'].flatten();\n",
    "    mat['inputs'] = {'stimulus': mat['stimulus'],'stimH': mat['stimH'], 'actionH': mat['actionH'],\n",
    "                     'actionXposRewardH': mat['actionXposRewardH'],'actionXnegRewardH':mat['actionXnegRewardH']}\n",
    "    del mat['stimulus'], mat['stimH'], mat['actionH'], mat['actionXposRewardH'],mat['actionXnegRewardH'],mat['dayIdx'],mat['removeFlag']\n",
    "    \n",
    "    \n",
    "    # STIMULUS ACTION REWARD MODEL\n",
    "    weights = {'bias': 0,  # a special key\n",
    "               'stimulus': 1, 'stimH': 0,    # use only the first column of s1 from inputs  \n",
    "               'actionH': nPrev, 'actionXposRewardH': 0, 'actionXnegRewardH': 0 }    # use only the first column of s2 from inputs\n",
    "\n",
    "    # It is often useful to have the total number of weights K in your model\n",
    "    K = np.sum([weights[i] for i in weights.keys()]);\n",
    "\n",
    "    hyper= {'sigInit': 2**4.,      # Set to a single, large value for all weights. Will not be optimized further.\n",
    "            'sigma': [2**-4.]*K,   # Each weight will have it's own sigma optimized, but all are initialized the same\n",
    "            'sigDay': 2**-2.}        # Indicates that session boundaries will be ignored in the optimization\n",
    "    optList = ['sigma','sigDay']\n",
    "    hyp, evd, wMode, hess_info = psy.hyperOpt(mat, hyper, weights, optList)\n",
    "    xval_logli, xval_pL = psy.crossValidate(mat, hyper, weights, optList, F=F, seed=41)\n",
    "\n",
    "    \n",
    "    scipy.io.savemat('C:/Users/zzhu34/Documents/tempData/octoData/psyTrackData/psyTrackFit/' + mouse + 'psytrack_SA_nPrev' + str(nPrev) +'.mat',\n",
    "                     {'xval_logli':xval_logli, 'xval_pL':xval_pL, 'hyp':hyp, 'evd':evd, 'wMode':wMode, 'hess_info':hess_info,\n",
    "                     'hyper':hyper, 'optList':optList, 'weights':weights, 'K':K})\n",
    "    \n"
   ]
  },
  {
   "cell_type": "code",
   "execution_count": null,
   "metadata": {},
   "outputs": [],
   "source": [
    "nPrev = 1;\n",
    "for mouse in mouseList:\n",
    "    fitFull(mouse,nPrev,F)"
   ]
  },
  {
   "cell_type": "code",
   "execution_count": null,
   "metadata": {},
   "outputs": [],
   "source": [
    "nPrev = 2;\n",
    "for mouse in mouseList:\n",
    "    fitFull(mouse,nPrev,F)"
   ]
  },
  {
   "cell_type": "code",
   "execution_count": null,
   "metadata": {},
   "outputs": [],
   "source": [
    "nPrev = 3;\n",
    "for mouse in mouseList:\n",
    "    fitFull(mouse,nPrev,F)"
   ]
  },
  {
   "cell_type": "code",
   "execution_count": null,
   "metadata": {},
   "outputs": [],
   "source": [
    "nPrev = 4;\n",
    "for mouse in mouseList:\n",
    "    fitFull(mouse,nPrev,F)"
   ]
  },
  {
   "cell_type": "code",
   "execution_count": null,
   "metadata": {},
   "outputs": [],
   "source": [
    "nPrev = 5;\n",
    "for mouse in mouseList:\n",
    "    fitFull(mouse,nPrev,F)"
   ]
  },
  {
   "cell_type": "code",
   "execution_count": null,
   "metadata": {},
   "outputs": [],
   "source": []
  }
 ],
 "metadata": {
  "kernelspec": {
   "display_name": "Python 3",
   "language": "python",
   "name": "python3"
  },
  "language_info": {
   "codemirror_mode": {
    "name": "ipython",
    "version": 3
   },
   "file_extension": ".py",
   "mimetype": "text/x-python",
   "name": "python",
   "nbconvert_exporter": "python",
   "pygments_lexer": "ipython3",
   "version": "3.7.3"
  }
 },
 "nbformat": 4,
 "nbformat_minor": 2
}
